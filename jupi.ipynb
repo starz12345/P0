{
 "cells": [
  {
   "cell_type": "code",
   "execution_count": 3,
   "outputs": [
    {
     "name": "stdout",
     "text": [
      "97380 60551 spent the longest time, 85509 seconds, on the phone during September 2016.\nCPU times: user 2 µs, sys: 0 ns, total: 2 µs\nWall time: 4.05 µs\n"
     ],
     "output_type": "stream"
    }
   ],
   "source": [
    "\n",
    "\"\"\"\n",
    "Read file into texts and calls.\n",
    "It's ok if you don't understand how to read files\n",
    "\"\"\"\n",
    "\n",
    "import csv\n",
    "\n",
    "with open('texts.csv', 'r') as f:\n",
    "    reader = csv.reader(f)\n",
    "    texts = list(reader)\n",
    "\n",
    "with open('calls.csv', 'r') as f:\n",
    "    reader = csv.reader(f)\n",
    "    calls = list(reader)\n",
    "\n",
    "\"\"\"\n",
    "TASK 2: Which telephone number spent the longest time on the phone\n",
    "during the period? Don't forget that time spent answering a call is\n",
    "also time spent on the phone.\n",
    "Print a message:\n",
    "\"<telephone number> spent the longest time, <total time> seconds, on the phone during \n",
    "September 2016.\".\n",
    "\"\"\"\n",
    "\n",
    "calls09 = [item for item in calls if \"09-2016\" in item[2]]  # O(n)\n",
    "\n",
    "call_max = calls09[0].copy()\n",
    "call_max.extend((0, 0))\n",
    "received_max = call_max.copy()\n",
    "\n",
    "for item in calls09:                         # O(n ^ 2) + O(7)\n",
    "    call_sum = 0\n",
    "    received_sum = 0\n",
    "    for value in calls09:\n",
    "        if value[0] == item[0]:\n",
    "            call_sum += int(value[3])\n",
    "        if value[1] == item[1]:\n",
    "            received_sum += int(value[3])\n",
    "    item.append(call_sum)\n",
    "    item.append(received_sum)\n",
    "    if call_sum > call_max[4]:\n",
    "        call_max = item\n",
    "    if received_sum > received_max[5]:\n",
    "        received_max = item\n",
    "\n",
    "\n",
    "max_phone = \"\"\n",
    "max_time = 0\n",
    "if sum(call_max[4:]) > sum(received_max[4:]):\n",
    "    max_phone = call_max[0]\n",
    "    max_time = sum(call_max[4:])\n",
    "else:\n",
    "    max_phone = received_max[0]\n",
    "    max_time = sum(received_max[4:])\n",
    "\n",
    "print(\"{} spent the longest time, {} seconds, on the phone during September 2016.\".format(max_phone, max_time))\n",
    "\n",
    "%time\n"
   ],
   "metadata": {
    "collapsed": false,
    "pycharm": {
     "name": "#%%\n",
     "is_executing": false
    }
   }
  }
 ],
 "metadata": {
  "language_info": {
   "codemirror_mode": {
    "name": "ipython",
    "version": 2
   },
   "file_extension": ".py",
   "mimetype": "text/x-python",
   "name": "python",
   "nbconvert_exporter": "python",
   "pygments_lexer": "ipython2",
   "version": "2.7.6"
  },
  "kernelspec": {
   "name": "python3",
   "language": "python",
   "display_name": "Python 3"
  },
  "pycharm": {
   "stem_cell": {
    "cell_type": "raw",
    "source": [],
    "metadata": {
     "collapsed": false
    }
   }
  }
 },
 "nbformat": 4,
 "nbformat_minor": 0
}